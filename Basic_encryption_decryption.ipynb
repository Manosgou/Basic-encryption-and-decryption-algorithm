{
  "nbformat": 4,
  "nbformat_minor": 0,
  "metadata": {
    "colab": {
      "name": "Basic_encryption_decryption.ipynb",
      "provenance": [],
      "collapsed_sections": [],
      "authorship_tag": "ABX9TyOctCOhWTOM3X7Ac1TyBcPz",
      "include_colab_link": true
    },
    "kernelspec": {
      "name": "python3",
      "display_name": "Python 3"
    }
  },
  "cells": [
    {
      "cell_type": "markdown",
      "metadata": {
        "id": "view-in-github",
        "colab_type": "text"
      },
      "source": [
        "<a href=\"https://colab.research.google.com/github/Manosgou/Basic-encryption-and-decryption-algorithm/blob/main/Basic_encryption_decryption.ipynb\" target=\"_parent\"><img src=\"https://colab.research.google.com/assets/colab-badge.svg\" alt=\"Open In Colab\"/></a>"
      ]
    },
    {
      "cell_type": "markdown",
      "metadata": {
        "id": "BVMaAvoIV5BI"
      },
      "source": [
        "Message encryption - decryption"
      ]
    },
    {
      "cell_type": "code",
      "metadata": {
        "id": "TVLWdSw3VHRd"
      },
      "source": [
        "msg = \"This is a message!\"\n",
        "key =8"
      ],
      "execution_count": 9,
      "outputs": []
    },
    {
      "cell_type": "code",
      "metadata": {
        "id": "ATPPIIIuJ1cw"
      },
      "source": [
        "def encrypt(msg,key):\n",
        "  chars = list(msg)\n",
        "  text=''\n",
        "  for c in chars:\n",
        "    text +=chr(ord(c)+key)\n",
        "  return text"
      ],
      "execution_count": 2,
      "outputs": []
    },
    {
      "cell_type": "code",
      "metadata": {
        "id": "wUwyCroL6Uvf"
      },
      "source": [
        "def decrypt(msg,key):\n",
        "  chars = list(msg)\n",
        "  text=''\n",
        "  for c in chars:\n",
        "    text +=chr(ord(c)-key)\n",
        "  return text"
      ],
      "execution_count": 3,
      "outputs": []
    },
    {
      "cell_type": "code",
      "metadata": {
        "id": "nKzc03n2-Eac",
        "outputId": "f388665d-1cbc-4f68-b66b-560540961787",
        "colab": {
          "base_uri": "https://localhost:8080/",
          "height": 68
        }
      },
      "source": [
        "print(\"Original message: \"+msg)\n",
        "print(\"Encrypted message: \"+encrypt(msg,key))\n",
        "e_msg =encrypt(msg,key) \n",
        "print(\"Decrypted message: \"+ decrypt(e_msg,key) )"
      ],
      "execution_count": 10,
      "outputs": [
        {
          "output_type": "stream",
          "text": [
            "Original message: This is a message!\n",
            "Encrypted message: \\pq{(q{(i(um{{iom)\n",
            "Decrypted message: This is a message!\n"
          ],
          "name": "stdout"
        }
      ]
    }
  ]
}